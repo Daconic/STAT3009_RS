{
 "cells": [
  {
   "cell_type": "markdown",
   "id": "049802ee",
   "metadata": {},
   "source": [
    "This Code is originally published from The Chinese University of Hong Kong STAT 3009 Class. This is for review only"
   ]
  },
  {
   "cell_type": "markdown",
   "id": "09f38b48",
   "metadata": {
    "id": "-B11Ph0JM062"
   },
   "source": [
    "# Overview of Recommender Systems"
   ]
  },
  {
   "cell_type": "markdown",
   "id": "87a17c47",
   "metadata": {
    "id": "-GlrTe7HHNc0"
   },
   "source": [
    "## Examples (RS) in Kaggle\n",
    "\n",
    "- [Elo Merchant Category Recommendation](https://www.kaggle.com/c/elo-merchant-category-recommendation/data?select=Data+Dictionary.xlsx): `merchant_id` and `card_id`.\n",
    "\n",
    "- [WSDM - KKBox's Music Recommendation Challenge](https://www.kaggle.com/c/kkbox-music-recommendation-challenge/data): `user` and `music`.\n",
    "\n",
    "- [Event Recommendation Engine Challenge](https://www.kaggle.com/c/event-recommendation-engine-challenge/overview/evaluation): `user` and `event`."
   ]
  },
  {
   "cell_type": "markdown",
   "id": "da304b46",
   "metadata": {
    "id": "3NbR3mAvL330"
   },
   "source": [
    "\n",
    "## Load Netflix dataset\n",
    "\n",
    "- Dowload [Netflix Prize Data](https://www.kaggle.com/datasets/netflix-inc/netflix-prize-data). (For illustration, we only take the first subset.)\n",
    "\n",
    "- Dataset is pre-processed by [`pre-process.py`](https://github.com/statmlben/CUHK-STAT3009/tree/main/dataset)\n",
    "\n",
    "- Load data into Python\n",
    "\n",
    "- Re-orginize the data structure as a standard form\n",
    "\n",
    "- For testing set, we remove the real ratings.\n",
    "\n"
   ]
  },
  {
   "cell_type": "code",
   "execution_count": 37,
   "id": "09f36f15",
   "metadata": {
    "id": "laI2Ki_bC_DN"
   },
   "outputs": [],
   "source": [
    "import numpy as np\n",
    "import pandas as pd\n",
    "\n",
    "## Upload Netflix dataset in CUHK-STAT3009 Github repo\n",
    "\n",
    "train_url = \"https://raw.githubusercontent.com/statmlben/CUHK-STAT3009/main/dataset/train.csv\"\n",
    "test_url = \"https://raw.githubusercontent.com/statmlben/CUHK-STAT3009/main/dataset/test.csv\"\n",
    "\n",
    "dtrain = pd.read_csv(train_url)\n",
    "dtest = pd.read_csv(test_url)"
   ]
  },
  {
   "cell_type": "code",
   "execution_count": 38,
   "id": "8e3f5417",
   "metadata": {
    "colab": {
     "base_uri": "https://localhost:8080/",
     "height": 206
    },
    "id": "tEQsDN-qy3FB",
    "outputId": "4f429374-c5be-4378-d53d-e390b611ef75"
   },
   "outputs": [
    {
     "data": {
      "text/html": [
       "<div>\n",
       "<style scoped>\n",
       "    .dataframe tbody tr th:only-of-type {\n",
       "        vertical-align: middle;\n",
       "    }\n",
       "\n",
       "    .dataframe tbody tr th {\n",
       "        vertical-align: top;\n",
       "    }\n",
       "\n",
       "    .dataframe thead th {\n",
       "        text-align: right;\n",
       "    }\n",
       "</style>\n",
       "<table border=\"1\" class=\"dataframe\">\n",
       "  <thead>\n",
       "    <tr style=\"text-align: right;\">\n",
       "      <th></th>\n",
       "      <th>movie_id</th>\n",
       "      <th>user_id</th>\n",
       "      <th>rating</th>\n",
       "      <th>date</th>\n",
       "    </tr>\n",
       "  </thead>\n",
       "  <tbody>\n",
       "    <tr>\n",
       "      <th>17234</th>\n",
       "      <td>1161</td>\n",
       "      <td>1942</td>\n",
       "      <td>5</td>\n",
       "      <td>2003-11-12</td>\n",
       "    </tr>\n",
       "    <tr>\n",
       "      <th>34560</th>\n",
       "      <td>1133</td>\n",
       "      <td>1374</td>\n",
       "      <td>4</td>\n",
       "      <td>2005-04-30</td>\n",
       "    </tr>\n",
       "    <tr>\n",
       "      <th>19469</th>\n",
       "      <td>510</td>\n",
       "      <td>1347</td>\n",
       "      <td>5</td>\n",
       "      <td>2005-12-19</td>\n",
       "    </tr>\n",
       "    <tr>\n",
       "      <th>25139</th>\n",
       "      <td>21</td>\n",
       "      <td>1302</td>\n",
       "      <td>3</td>\n",
       "      <td>2004-07-23</td>\n",
       "    </tr>\n",
       "    <tr>\n",
       "      <th>12748</th>\n",
       "      <td>3019</td>\n",
       "      <td>1013</td>\n",
       "      <td>4</td>\n",
       "      <td>2004-02-18</td>\n",
       "    </tr>\n",
       "  </tbody>\n",
       "</table>\n",
       "</div>"
      ],
      "text/plain": [
       "       movie_id  user_id  rating        date\n",
       "17234      1161     1942       5  2003-11-12\n",
       "34560      1133     1374       4  2005-04-30\n",
       "19469       510     1347       5  2005-12-19\n",
       "25139        21     1302       3  2004-07-23\n",
       "12748      3019     1013       4  2004-02-18"
      ]
     },
     "execution_count": 38,
     "metadata": {},
     "output_type": "execute_result"
    }
   ],
   "source": [
    "dtrain.sample(5)"
   ]
  },
  {
   "cell_type": "code",
   "execution_count": 39,
   "id": "a66feabe",
   "metadata": {
    "colab": {
     "base_uri": "https://localhost:8080/",
     "height": 206
    },
    "id": "3KC4b07nzT3s",
    "outputId": "5159f26d-c443-4f64-de09-d7931ce2cb6c"
   },
   "outputs": [
    {
     "data": {
      "text/html": [
       "<div>\n",
       "<style scoped>\n",
       "    .dataframe tbody tr th:only-of-type {\n",
       "        vertical-align: middle;\n",
       "    }\n",
       "\n",
       "    .dataframe tbody tr th {\n",
       "        vertical-align: top;\n",
       "    }\n",
       "\n",
       "    .dataframe thead th {\n",
       "        text-align: right;\n",
       "    }\n",
       "</style>\n",
       "<table border=\"1\" class=\"dataframe\">\n",
       "  <thead>\n",
       "    <tr style=\"text-align: right;\">\n",
       "      <th></th>\n",
       "      <th>movie_id</th>\n",
       "      <th>user_id</th>\n",
       "      <th>rating</th>\n",
       "      <th>date</th>\n",
       "    </tr>\n",
       "  </thead>\n",
       "  <tbody>\n",
       "    <tr>\n",
       "      <th>34070</th>\n",
       "      <td>242</td>\n",
       "      <td>879</td>\n",
       "      <td>1</td>\n",
       "      <td>2003-02-14</td>\n",
       "    </tr>\n",
       "    <tr>\n",
       "      <th>33963</th>\n",
       "      <td>2636</td>\n",
       "      <td>698</td>\n",
       "      <td>5</td>\n",
       "      <td>2003-05-01</td>\n",
       "    </tr>\n",
       "    <tr>\n",
       "      <th>46038</th>\n",
       "      <td>887</td>\n",
       "      <td>1709</td>\n",
       "      <td>5</td>\n",
       "      <td>2005-09-09</td>\n",
       "    </tr>\n",
       "    <tr>\n",
       "      <th>6851</th>\n",
       "      <td>1456</td>\n",
       "      <td>1372</td>\n",
       "      <td>2</td>\n",
       "      <td>2003-08-19</td>\n",
       "    </tr>\n",
       "    <tr>\n",
       "      <th>33346</th>\n",
       "      <td>3044</td>\n",
       "      <td>1161</td>\n",
       "      <td>4</td>\n",
       "      <td>2004-05-28</td>\n",
       "    </tr>\n",
       "  </tbody>\n",
       "</table>\n",
       "</div>"
      ],
      "text/plain": [
       "       movie_id  user_id  rating        date\n",
       "34070       242      879       1  2003-02-14\n",
       "33963      2636      698       5  2003-05-01\n",
       "46038       887     1709       5  2005-09-09\n",
       "6851       1456     1372       2  2003-08-19\n",
       "33346      3044     1161       4  2004-05-28"
      ]
     },
     "execution_count": 39,
     "metadata": {},
     "output_type": "execute_result"
    }
   ],
   "source": [
    "dtest.sample(5)"
   ]
  },
  {
   "cell_type": "markdown",
   "id": "97aceb79",
   "metadata": {
    "id": "40xSnlBPLd20"
   },
   "source": [
    "### Pre-process the data as a `np.array`"
   ]
  },
  {
   "cell_type": "code",
   "execution_count": 40,
   "id": "725f1868",
   "metadata": {
    "colab": {
     "base_uri": "https://localhost:8080/"
    },
    "id": "TLS8AHQhBwzp",
    "outputId": "b261870a-e6da-4700-d108-5ee355780d39",
    "scrolled": false
   },
   "outputs": [
    {
     "data": {
      "text/plain": [
       "array([[2956, 1574, 4, '2005-06-14'],\n",
       "       [791, 1670, 4, '2005-02-26'],\n",
       "       [1547, 837, 5, '2002-03-15'],\n",
       "       ...,\n",
       "       [653, 1828, 5, '2005-12-22'],\n",
       "       [2195, 566, 3, '2005-05-08'],\n",
       "       [3081, 1046, 4, '2005-01-08']], dtype=object)"
      ]
     },
     "execution_count": 40,
     "metadata": {},
     "output_type": "execute_result"
    }
   ],
   "source": [
    "dtest.values"
   ]
  },
  {
   "cell_type": "code",
   "execution_count": 41,
   "id": "3005fc29",
   "metadata": {},
   "outputs": [
    {
     "data": {
      "text/plain": [
       "array([4., 4., 4., ..., 4., 2., 3.])"
      ]
     },
     "execution_count": 41,
     "metadata": {},
     "output_type": "execute_result"
    }
   ],
   "source": [
    "np.array(dtrain['rating'].values, dtype='float')"
   ]
  },
  {
   "cell_type": "code",
   "execution_count": 42,
   "id": "6b5ebba1",
   "metadata": {
    "id": "-4vsUi4SLao_"
   },
   "outputs": [],
   "source": [
    "## save (user_id, item_id) and rating separately\n",
    "train_rating = dtrain['rating'].values\n",
    "\n",
    "# 기존에 np array가 정수형으로 되어 있는데 데이터 타입을 유리수 형태로 변경 \n",
    "train_rating = np.array(train_rating, dtype='float')\n",
    "\n",
    "# train_pair에 train 데이터로 사용할 user_id와 movie_id를 기입 \n",
    "train_pair = dtrain[['user_id', 'movie_id']].values\n",
    "\n",
    "# test에도 동일하게 적용 \n",
    "test_rating = dtest['rating'].values\n",
    "test_rating = np.array(train_rating, dtype='float')\n",
    "test_pair = dtest[['user_id', 'movie_id']].values\n",
    "\n",
    "## we want to predict `test_rating` based on `train_pair`, `train_rating`, `test_pair`"
   ]
  },
  {
   "cell_type": "code",
   "execution_count": 43,
   "id": "e238bc9f",
   "metadata": {
    "colab": {
     "base_uri": "https://localhost:8080/"
    },
    "id": "97AyQ6WVfAgy",
    "outputId": "f76dce5d-98f6-4a8a-a2f8-58692a59ae62"
   },
   "outputs": [
    {
     "data": {
      "text/plain": [
       "51161"
      ]
     },
     "execution_count": 43,
     "metadata": {},
     "output_type": "execute_result"
    }
   ],
   "source": [
    "len(train_pair)"
   ]
  },
  {
   "cell_type": "code",
   "execution_count": 44,
   "id": "499789c1",
   "metadata": {
    "colab": {
     "base_uri": "https://localhost:8080/"
    },
    "id": "ieLxxugFzg2q",
    "outputId": "843ef37e-0728-40df-d1fa-1853088f73d8",
    "scrolled": true
   },
   "outputs": [
    {
     "data": {
      "text/plain": [
       "51161"
      ]
     },
     "execution_count": 44,
     "metadata": {},
     "output_type": "execute_result"
    }
   ],
   "source": [
    "len(train_rating)"
   ]
  },
  {
   "cell_type": "code",
   "execution_count": 45,
   "id": "08d7506b",
   "metadata": {
    "id": "2phtzI5rKbtl"
   },
   "outputs": [],
   "source": [
    "## find the number of users/items\n",
    "\n",
    "# user\n",
    "# starts with 0, so add up 1\n",
    "n_user = max(max(train_pair[:,0]), max(test_pair[:,0])) + 1\n",
    "\n",
    "# item\n",
    "n_item = max(max(train_pair[:,1]), max(test_pair[:,1])) + 1\n",
    "\n",
    "## if the user_id is not the form of {0,1,2,3,4, ...}\n",
    "## You should use set operators"
   ]
  },
  {
   "cell_type": "code",
   "execution_count": 46,
   "id": "d0bd3d47",
   "metadata": {
    "scrolled": false
   },
   "outputs": [
    {
     "data": {
      "text/plain": [
       "(51161, 51161)"
      ]
     },
     "execution_count": 46,
     "metadata": {},
     "output_type": "execute_result"
    }
   ],
   "source": [
    "len(train_pair[:,0]), len(test_pair[:,0])"
   ]
  },
  {
   "cell_type": "code",
   "execution_count": 47,
   "id": "8397847b",
   "metadata": {
    "scrolled": true
   },
   "outputs": [
    {
     "data": {
      "text/plain": [
       "(1999, 1999)"
      ]
     },
     "execution_count": 47,
     "metadata": {},
     "output_type": "execute_result"
    }
   ],
   "source": [
    "max(train_pair[:,0]), max(test_pair[:,0])"
   ]
  },
  {
   "cell_type": "code",
   "execution_count": 48,
   "id": "7314773f",
   "metadata": {
    "scrolled": true
   },
   "outputs": [
    {
     "data": {
      "text/plain": [
       "(3567, 3567)"
      ]
     },
     "execution_count": 48,
     "metadata": {},
     "output_type": "execute_result"
    }
   ],
   "source": [
    "max(train_pair[:,1]), max(test_pair[:,1])"
   ]
  },
  {
   "cell_type": "code",
   "execution_count": 49,
   "id": "2548b538",
   "metadata": {
    "colab": {
     "base_uri": "https://localhost:8080/"
    },
    "id": "-ZzdE7--FE2g",
    "outputId": "388daa68-0c33-485d-b256-57f07244411c"
   },
   "outputs": [
    {
     "name": "stdout",
     "output_type": "stream",
     "text": [
      "num of users: 2000\n",
      "num of items: 3568\n"
     ]
    }
   ],
   "source": [
    "print('num of users: %d' %n_user)\n",
    "print('num of items: %d' %n_item)"
   ]
  },
  {
   "cell_type": "markdown",
   "id": "d8f00d8a",
   "metadata": {
    "id": "u0_NscNaQjOn"
   },
   "source": [
    "## Evaluation\n",
    "\n",
    "- Define a function to compute `rmse` for the predicted rating\n",
    "\n",
    "- Test your function"
   ]
  },
  {
   "cell_type": "code",
   "execution_count": 50,
   "id": "532dd376",
   "metadata": {
    "id": "rkILaoF_J_1D"
   },
   "outputs": [],
   "source": [
    "## define RMSE function\n",
    "## professor answer\n",
    "def rmse(pred_rating, test_rating) :\n",
    "    return np.sqrt(np.mean((pred_rating - test_rating)**2))"
   ]
  },
  {
   "cell_type": "code",
   "execution_count": 51,
   "id": "4aaa537d",
   "metadata": {
    "colab": {
     "base_uri": "https://localhost:8080/"
    },
    "id": "O09NyaasKL2y",
    "outputId": "4e0d95ac-3d79-4158-99ff-4fbf5fadff1a",
    "scrolled": true
   },
   "outputs": [
    {
     "name": "stdout",
     "output_type": "stream",
     "text": [
      "[0. 0. 0. ... 0. 0. 0.]\n",
      "3.781031894239759\n"
     ]
    }
   ],
   "source": [
    "demo = test_rating.copy()\n",
    "demo = 0.0 * demo\n",
    "print(demo)\n",
    "\n",
    "res_tmp = np.sqrt(np.mean((demo - test_rating)**2))\n",
    "print(res_tmp)"
   ]
  },
  {
   "cell_type": "code",
   "execution_count": 53,
   "id": "427af8bb",
   "metadata": {
    "id": "MMDuPMuEOZRX"
   },
   "outputs": [],
   "source": [
    "## define RMSE function\n",
    "## generated by ChatGPT\n",
    "def calculate_rmse(predictions, targets):\n",
    "    \"\"\"\n",
    "    RMSE 계산하는 함수\n",
    "\n",
    "    :param predictions: 예측값 배열\n",
    "    :param targets: 실제값 배열\n",
    "    :return: RMSE\n",
    "    \"\"\"\n",
    "    # 예측값과 실제값 배열 길이가 같은지 확인\n",
    "    if len(predictions) != len(targets):\n",
    "        raise ValueError(\"예측값과 실제값 배열의 길이가 같아야 합니다.\")\n",
    "\n",
    "    # RMSE 계산\n",
    "    mse = np.mean((predictions - targets) ** 2)\n",
    "    rmse = np.sqrt(mse)\n",
    "\n",
    "    return rmse\n"
   ]
  },
  {
   "cell_type": "code",
   "execution_count": 55,
   "id": "4e58357c",
   "metadata": {
    "id": "nIbtcs1yQ-XX"
   },
   "outputs": [
    {
     "data": {
      "text/plain": [
       "0.0"
      ]
     },
     "execution_count": 55,
     "metadata": {},
     "output_type": "execute_result"
    }
   ],
   "source": [
    "## Test `rmse` function\n",
    "rmse(pred_rating=test_rating, test_rating=test_rating)"
   ]
  },
  {
   "cell_type": "markdown",
   "id": "c5818403",
   "metadata": {
    "id": "I6Q8azZBMsTr"
   },
   "source": [
    "## Implement Baseline methods\n",
    "\n",
    "- Inout: training set.\n",
    "\n",
    "- Output: return predicted ratings for (user id, item id) user-item pairs in testing set.\n",
    "\n",
    "- Goal: make prediction for testing set"
   ]
  },
  {
   "cell_type": "markdown",
   "id": "ff389989",
   "metadata": {
    "id": "fZcI0KssCZlF"
   },
   "source": [
    "### Global mean\n",
    "\n",
    "$$\n",
    "\\bar{r} = \\frac{1}{|\\Omega|} \\sum_{(u,i) \\in \\Omega} r_{ui}, \\quad \\hat{r}_{ui} = \\bar{r}\n",
    "$$"
   ]
  },
  {
   "cell_type": "code",
   "execution_count": 56,
   "id": "0e802a78",
   "metadata": {
    "colab": {
     "base_uri": "https://localhost:8080/"
    },
    "id": "geJGIMtNM9Mv",
    "outputId": "5abf3aaa-e748-4870-f67d-1454202154ba"
   },
   "outputs": [
    {
     "name": "stdout",
     "output_type": "stream",
     "text": [
      "glb ave prediction is [3.62115674 3.62115674 3.62115674 ... 3.62115674 3.62115674 3.62115674]\n"
     ]
    }
   ],
   "source": [
    "## create a potential prediction for `test_rating`\n",
    "\n",
    "## test_rating의 숫자만큼의 1을 생성 \n",
    "pred_rating = np.ones(len(test_pair))\n",
    "\n",
    "## Compute global mean based on `train_rating`\n",
    "pred_rating = pred_rating * np.mean(train_rating)\n",
    "print('glb ave prediction is %s'%pred_rating)"
   ]
  },
  {
   "cell_type": "code",
   "execution_count": 57,
   "id": "3ad9dd93",
   "metadata": {
    "colab": {
     "base_uri": "https://localhost:8080/"
    },
    "id": "5WSgAnEOOYYI",
    "outputId": "e68be232-6e57-4424-cadb-482fd440602c",
    "scrolled": true
   },
   "outputs": [
    {
     "name": "stdout",
     "output_type": "stream",
     "text": [
      "rmse for glb Ave: 1.0879\n"
     ]
    }
   ],
   "source": [
    "rmse(pred_rating, test_rating)\n",
    "print('rmse for glb Ave: %.4f' %rmse(pred_rating, test_rating))"
   ]
  },
  {
   "cell_type": "markdown",
   "id": "e017f602",
   "metadata": {
    "id": "rgPwtxBBNrzz"
   },
   "source": [
    "### user average\n",
    "\n",
    "$$\n",
    "\t\t\\bar{r}_{u} = \\frac{1}{|\\mathcal{I}_u|} \\sum_{i \\in \\mathcal{I}_u} r_{ui}, \\text{ for } u=1, \\cdots, n; \\quad \\hat{r}_{ui} = \\bar{r}_u\n",
    "$$\n",
    "\n",
    "- Loop for all users\n",
    "  - Find all records for this user in both training and testing sets.\n",
    "  - Compute the average ratings for this user in the training set.\n",
    "  - Predict the ratings for this users in the testing set."
   ]
  },
  {
   "cell_type": "code",
   "execution_count": 58,
   "id": "03cb1209",
   "metadata": {
    "id": "aJC3fcr_NWQP"
   },
   "outputs": [],
   "source": [
    "## (InClass Practice) user average\n",
    "pred_rating = np.zeros(len(test_pair))\n",
    "glb_mean = np.mean(train_rating)\n",
    "\n",
    "for u in range(n_user):\n",
    "  # S1: find the records in `test_pair` that `user_id` = u\n",
    "  # S2: compute the user average in the training set\n",
    "    # S2.1: find all indices in `train_pair` that `user_id` = u\n",
    "    # S2.2: put the indices into `train_rating` then take average\n",
    "  # S3: put user average into all records in S1\n",
    "\n",
    "  # user column에서 user 식별 번호가 u에 해당하는 모든 경우의 인덱스를 변수에 지정(train과 test에 모두 적용)  \n",
    "  ind_test = np.where(test_pair[:,0] == u)[0]\n",
    "  ind_train = np.where(train_pair[:,0] == u)[0]\n",
    "\n",
    "  # if ind_test is none\n",
    "\n",
    "  # test 데이터는 평가를 위한 데이터셋이므로 glb_mean을 지정하지 않는다. \n",
    "  if len(ind_test)==0:\n",
    "    continue\n",
    "    \n",
    "  # train 데이터가 없는 경우 global mean을 변수로 지정해 준다. \n",
    "  if len(ind_train)==0:\n",
    "    user_mean_tmp = glb_mean\n",
    "  else:\n",
    "    user_mean_tmp = train_rating[ind_train].mean()\n",
    "  \n",
    "  # 해당 인덱스에 평균 지정 \n",
    "  pred_rating[ind_test] = user_mean_tmp"
   ]
  },
  {
   "cell_type": "code",
   "execution_count": 59,
   "id": "fedf226e",
   "metadata": {
    "colab": {
     "base_uri": "https://localhost:8080/"
    },
    "id": "P8ikSK7sS7Hb",
    "outputId": "084318df-ee5f-4357-d930-8e0e12821bb6"
   },
   "outputs": [
    {
     "data": {
      "text/plain": [
       "1.1917209444380417"
      ]
     },
     "execution_count": 59,
     "metadata": {},
     "output_type": "execute_result"
    }
   ],
   "source": [
    "rmse(pred_rating, test_rating)"
   ]
  },
  {
   "cell_type": "code",
   "execution_count": 60,
   "id": "369e8ac9",
   "metadata": {},
   "outputs": [],
   "source": [
    "## 내가 이해한 내용 \n",
    "## Predicted value는 같은 user_id를 기준으로 그룹화 해 평균을 낸 숫자를 predicted value라고 정의 "
   ]
  },
  {
   "cell_type": "markdown",
   "id": "056e5002",
   "metadata": {
    "id": "lIODUfHlCUsh"
   },
   "source": [
    "### item average\n",
    "\n",
    "$$\n",
    "\t\t\\bar{r}_{i} = \\frac{1}{|\\mathcal{U}_i|} \\sum_{u \\in \\mathcal{U}_i} r_{ui}, \\text{ for } i=1, \\cdots, m; \\quad \\hat{r}_{ui} = \\bar{r}_i,\n",
    "$$"
   ]
  },
  {
   "cell_type": "code",
   "execution_count": 61,
   "id": "9ad85b59",
   "metadata": {
    "id": "WC_8umwbReuC"
   },
   "outputs": [],
   "source": [
    "## (InClass Practice) item average\n",
    "pred_rating = np.zeros(len(test_pair))\n",
    "glb_mean = np.mean(train_rating)\n",
    "\n",
    "for i in range(n_item):\n",
    "\n",
    "  # item column에서 item 식별 번호가 i에 해당하는 모든 경우의 인덱스를 변수에 지정(train과 test에 모두 적용)  \n",
    "  ind_test = np.where(test_pair[:,1] == i)[0]\n",
    "  ind_train = np.where(train_pair[:,1] == i)[0]\n",
    "\n",
    "  # if ind_test is none\n",
    "  if len(ind_test)==0:\n",
    "    continue\n",
    "  # less than 3 can't represents the data\n",
    "  if len(ind_train)<3:\n",
    "    item_mean = glb_mean\n",
    "  else:\n",
    "    item_mean_tmp = train_rating[ind_train].mean()\n",
    "  pred_rating[ind_test] = item_mean_tmp"
   ]
  },
  {
   "cell_type": "code",
   "execution_count": 62,
   "id": "0c36ba17",
   "metadata": {},
   "outputs": [],
   "source": [
    "## 내가 이해한 내용\n",
    "## 이번에는 같은 item끼리 묶어서 rating 중 같은 item의 평균을 도출해 냄. \n",
    "## 참고로 item이 3개 이하인 경우 그 item의 rating을 대변하기 어렵다고 생각해서 global mean을 그대로 적용. "
   ]
  },
  {
   "cell_type": "markdown",
   "id": "d361b1cf",
   "metadata": {
    "id": "IADOQ4o8Aoee"
   },
   "source": [
    "## Package Python functions\n",
    "\n",
    "\n",
    "- *Input*: 'train_rating', 'test_pair'\n",
    "\n",
    "- *Return*: Predicted ratings."
   ]
  },
  {
   "cell_type": "code",
   "execution_count": 63,
   "id": "f637cf55",
   "metadata": {
    "id": "TA4xMKeq_mIt"
   },
   "outputs": [],
   "source": [
    "def glb_mean(train_rating, test_pair):\n",
    "    pred = train_rating.mean() * np.ones(len(test_pair))\n",
    "    return pred"
   ]
  },
  {
   "cell_type": "code",
   "execution_count": 64,
   "id": "0f3a9897",
   "metadata": {
    "id": "I3SoWdbZBGlz"
   },
   "outputs": [],
   "source": [
    "def user_mean(train_pair, train_rating, test_pair):\n",
    "    n_user = max(train_pair[:,0].max(), test_pair[:,0].max())+1\n",
    "    pred = np.zeros(len(test_pair))\n",
    "    glb_mean_value = train_rating.mean()\n",
    "    for u in range(n_user):\n",
    "        # find the index for both train and test for user_id = u\n",
    "        ind_test = np.where(test_pair[:,0] == u)[0]\n",
    "        ind_train = np.where(train_pair[:,0] == u)[0]\n",
    "        if len(ind_test) == 0:\n",
    "            continue\n",
    "        if len(ind_train) < 3:\n",
    "            pred[ind_test] = glb_mean_value\n",
    "        else:\n",
    "            # predict as user average\n",
    "            pred[ind_test] = train_rating[ind_train].mean()\n",
    "    return pred"
   ]
  },
  {
   "cell_type": "code",
   "execution_count": 65,
   "id": "6daa67a4",
   "metadata": {
    "id": "9fJY4fTRBK3k"
   },
   "outputs": [],
   "source": [
    "def item_mean(train_pair, train_rating, test_pair):\n",
    "    n_item = max(train_pair[:,1].max(), test_pair[:,1].max())+1\n",
    "    pred = np.zeros(len(test_pair))\n",
    "    glb_mean_value = train_rating.mean()\n",
    "    for i in range(n_item):\n",
    "        # find the index for both train and test for item_id = i\n",
    "        ind_test = np.where(test_pair[:,1] == i)[0]\n",
    "        ind_train = np.where(train_pair[:,1] == i)[0]\n",
    "        if len(ind_test) == 0:\n",
    "            continue\n",
    "        if len(ind_train) < 3:\n",
    "            pred[ind_test] = glb_mean_value\n",
    "        else:\n",
    "            # predict as user average\n",
    "            pred[ind_test] = train_rating[ind_train].mean()\n",
    "    return pred"
   ]
  },
  {
   "cell_type": "code",
   "execution_count": 66,
   "id": "660e8fba",
   "metadata": {
    "colab": {
     "base_uri": "https://localhost:8080/"
    },
    "id": "NEtz7s-scOFe",
    "outputId": "48c5c277-3ca1-4bb3-db31-c49feb0db4a7"
   },
   "outputs": [
    {
     "name": "stdout",
     "output_type": "stream",
     "text": [
      "rmse for user_ave: 1.1870\n"
     ]
    }
   ],
   "source": [
    "pred_rating = user_mean(train_pair, train_rating, test_pair)\n",
    "rmse_user_ave = rmse(pred_rating, test_rating)\n",
    "print('rmse for user_ave: %.4f' %rmse_user_ave)"
   ]
  },
  {
   "cell_type": "markdown",
   "id": "59613ace",
   "metadata": {
    "id": "GBHQZvlFB99k"
   },
   "source": [
    "## Sequential models; user-item mean\n",
    "\n",
    "- We can predict the rating by the `user_mean`, then fit the residual by `item_mean`\n",
    "\n",
    "$$\\hat{r}_{ui} = \\mu_u + \\mu_i$$\n",
    "\n",
    "where\n",
    "\t\t$$\\mu_u = \\frac{1}{|\\mathcal{I}_u|} \\sum_{i \\in \\mathcal{I}_u} r_{ui}, \\quad \\mu_i = \\frac{1}{|\\mathcal{U}_i|} \\sum_{u \\in \\mathcal{U}_i} (r_{ui} - \\mu_u)$$"
   ]
  },
  {
   "cell_type": "code",
   "execution_count": 70,
   "id": "be737ab4",
   "metadata": {
    "id": "sutzdFaNB2Ik"
   },
   "outputs": [],
   "source": [
    "## compute user-mean + item_mean on res\n",
    "\n",
    "# train_pair : 학습 데이터 / train_rating : validation data / test_pair : 예측하고자하는 데이터 \n",
    "pred_rating = user_mean(train_pair, train_rating, test_pair)\n",
    "\n",
    "# 유저 데이터 train_pair로 fit\n",
    "pred_rating_train = user_mean(train_pair, train_rating, train_pair)\n",
    "\n",
    "# rating에 대한 residual 구하기 \n",
    "res_rating= train_rating - pred_rating_train\n",
    "\n",
    "# rating residual을 가지고 item_mean 구해서 더하기 |\n",
    "pred_rating = pred_rating + item_mean(train_pair, res_rating, test_pair)\n"
   ]
  },
  {
   "cell_type": "code",
   "execution_count": 73,
   "id": "9572613e",
   "metadata": {},
   "outputs": [
    {
     "data": {
      "text/plain": [
       "array([4.25566734, 2.89384634, 3.32151874, ..., 4.26759153, 1.23110284,\n",
       "       3.23510628])"
      ]
     },
     "execution_count": 73,
     "metadata": {},
     "output_type": "execute_result"
    }
   ],
   "source": [
    "pred_rating"
   ]
  },
  {
   "cell_type": "code",
   "execution_count": null,
   "id": "e8a7a044",
   "metadata": {
    "colab": {
     "base_uri": "https://localhost:8080/"
    },
    "id": "EWDoZdoJf_Ud",
    "outputId": "78066831-55a3-44d4-dd6c-761706096b87"
   },
   "outputs": [
    {
     "data": {
      "text/plain": [
       "1.2438011589430351"
      ]
     },
     "execution_count": 65,
     "metadata": {},
     "output_type": "execute_result"
    }
   ],
   "source": [
    "rmse(pred_rating, test_rating)"
   ]
  },
  {
   "cell_type": "code",
   "execution_count": null,
   "id": "67d496fa",
   "metadata": {
    "colab": {
     "base_uri": "https://localhost:8080/"
    },
    "id": "AIbFn8eZC4US",
    "outputId": "1b5d9492-c299-4dbe-c493-7cfe12f64fd9"
   },
   "outputs": [
    {
     "data": {
      "text/plain": [
       "1.2411032329726488"
      ]
     },
     "execution_count": 66,
     "metadata": {},
     "output_type": "execute_result"
    }
   ],
   "source": [
    "## 반대로 item-mean을 먼저 구해 잔차를 구한후 user_mean을 도출하는 방식 \n",
    "\n",
    "## compute item-mean + user_mean on res\n",
    "pred_rating = item_mean(train_pair, train_rating, test_pair)\n",
    "rmse(pred_rating, test_rating)\n",
    "\n",
    "pred_rating_train = item_mean(train_pair, train_rating, train_pair)\n",
    "res_rating = train_rating - pred_rating_train\n",
    "\n",
    "pred_rating = pred_rating + user_mean(train_pair, res_rating, test_pair)\n",
    "rmse(pred_rating, test_rating)"
   ]
  },
  {
   "cell_type": "markdown",
   "id": "d6ed7599",
   "metadata": {
    "id": "SK5tsXyFENi9"
   },
   "source": [
    "## To-do list\n",
    "\n",
    "- **STAT**\n",
    "  - [ ] Background of RS  \n",
    "  - [ ] The data types in RS\n",
    "  - [ ] Evaluation metrics\n",
    "  - [ ] Statistical models for baseline methods\n",
    "\n",
    "- **Code**\n",
    "\n",
    "  - [ ] Load data to Python `pd.read_csv`\n",
    "  - [ ] implementation of baseline methods\n",
    "  - [ ] define Python functions"
   ]
  },
  {
   "cell_type": "code",
   "execution_count": null,
   "id": "d8b0a15f",
   "metadata": {},
   "outputs": [],
   "source": []
  }
 ],
 "metadata": {
  "kernelspec": {
   "display_name": "Python 3 (ipykernel)",
   "language": "python",
   "name": "python3"
  },
  "language_info": {
   "codemirror_mode": {
    "name": "ipython",
    "version": 3
   },
   "file_extension": ".py",
   "mimetype": "text/x-python",
   "name": "python",
   "nbconvert_exporter": "python",
   "pygments_lexer": "ipython3",
   "version": "3.9.12"
  },
  "toc": {
   "base_numbering": 1,
   "nav_menu": {},
   "number_sections": true,
   "sideBar": true,
   "skip_h1_title": false,
   "title_cell": "Table of Contents",
   "title_sidebar": "Contents",
   "toc_cell": false,
   "toc_position": {},
   "toc_section_display": true,
   "toc_window_display": false
  }
 },
 "nbformat": 4,
 "nbformat_minor": 5
}
