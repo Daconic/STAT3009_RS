{
  "nbformat": 4,
  "nbformat_minor": 0,
  "metadata": {
    "colab": {
      "provenance": [],
      "collapsed_sections": [
        "1_xoYPE6Lj1u",
        "y6VrvFUELaMk"
      ]
    },
    "kernelspec": {
      "name": "python3",
      "display_name": "Python 3"
    },
    "language_info": {
      "name": "python"
    }
  },
  "cells": [
    {
      "cell_type": "markdown",
      "source": [
        "In the first tutorial, our goal is to be familar with basic operators and functions in Python."
      ],
      "metadata": {
        "id": "stFLY1tSGPPm"
      }
    },
    {
      "cell_type": "markdown",
      "source": [
        "# Basic data types"
      ],
      "metadata": {
        "id": "1_xoYPE6Lj1u"
      }
    },
    {
      "cell_type": "markdown",
      "source": [
        "1. **int**. x = 1\n",
        "2. **float**. x = 1.5\n",
        "3. **boolean**. x = True, x = False\n",
        "4. **string**. x = 'hello world'\n",
        "5. **list**. x = [1, 1.5, True, 'hello world']\n",
        "6. **dict**. x = {'Name': 'Tom', 'age': 20, 'height': 170}"
      ],
      "metadata": {
        "id": "77V-g9gkF8Qn"
      }
    },
    {
      "cell_type": "code",
      "source": [
        "x = [1, 1.5, True, 'Tom']\n",
        "print(x[0]) # use index to access elements of the list, 0 represents the first index (It is not 1, be careful!)\n",
        "print(x[1])\n",
        "print(x[2])\n",
        "print(x[3])"
      ],
      "metadata": {
        "colab": {
          "base_uri": "https://localhost:8080/"
        },
        "id": "4m4x5BzR7dP6",
        "outputId": "5a486a2c-6969-4984-d4b1-c39f45eb161a"
      },
      "execution_count": null,
      "outputs": [
        {
          "output_type": "stream",
          "name": "stdout",
          "text": [
            "1\n",
            "1.5\n",
            "True\n",
            "Tom\n"
          ]
        }
      ]
    },
    {
      "cell_type": "markdown",
      "source": [
        "# Conditions\n",
        "1. if $\\cdots$, else $\\cdots$"
      ],
      "metadata": {
        "id": "y6VrvFUELaMk"
      }
    },
    {
      "cell_type": "code",
      "source": [
        "# Conditions\n",
        "\n",
        "x = 1\n",
        "if x > 2:\n",
        "  print('x is larger than 2')\n",
        "else:\n",
        "  print('x is smaller than or equal to 2')"
      ],
      "metadata": {
        "colab": {
          "base_uri": "https://localhost:8080/"
        },
        "id": "J1EX3fhXKyf0",
        "outputId": "362c2de2-5210-466b-f9d4-f06516aa4b90"
      },
      "execution_count": null,
      "outputs": [
        {
          "output_type": "stream",
          "name": "stdout",
          "text": [
            "x is smaller than or equal to 2\n"
          ]
        }
      ]
    },
    {
      "cell_type": "code",
      "source": [
        "# 'else' can be omitted\n",
        "if x > 2:\n",
        "  print('x is larger than 2')"
      ],
      "metadata": {
        "id": "6mi69faOK_H_"
      },
      "execution_count": null,
      "outputs": []
    },
    {
      "cell_type": "markdown",
      "source": [
        "# Loops\n",
        "1. for\n",
        "2. while"
      ],
      "metadata": {
        "id": "IsjQA1-WLqfD"
      }
    },
    {
      "cell_type": "code",
      "source": [
        "for x in [1, 2, 3, 4, 5]:\n",
        "  print(x)"
      ],
      "metadata": {
        "colab": {
          "base_uri": "https://localhost:8080/"
        },
        "id": "40evI2qPMb21",
        "outputId": "14e04a90-d17a-43dd-9136-d83e96cc2562"
      },
      "execution_count": null,
      "outputs": [
        {
          "output_type": "stream",
          "name": "stdout",
          "text": [
            "1\n",
            "2\n",
            "3\n",
            "4\n",
            "5\n"
          ]
        }
      ]
    },
    {
      "cell_type": "code",
      "source": [
        "for x in range(1, 10):\n",
        "  print(x)"
      ],
      "metadata": {
        "colab": {
          "base_uri": "https://localhost:8080/"
        },
        "id": "uoBT53CNMhHZ",
        "outputId": "8f17094d-3221-4453-85aa-0827c0e49bb6"
      },
      "execution_count": null,
      "outputs": [
        {
          "output_type": "stream",
          "name": "stdout",
          "text": [
            "1\n",
            "2\n",
            "3\n",
            "4\n",
            "5\n",
            "6\n",
            "7\n",
            "8\n",
            "9\n"
          ]
        }
      ]
    },
    {
      "cell_type": "code",
      "source": [
        "for x in range(10):\n",
        "  print(x)"
      ],
      "metadata": {
        "colab": {
          "base_uri": "https://localhost:8080/"
        },
        "id": "NDOoSAWXNARA",
        "outputId": "7f73872d-7256-404b-b366-747c1f30a8bc"
      },
      "execution_count": null,
      "outputs": [
        {
          "output_type": "stream",
          "name": "stdout",
          "text": [
            "0\n",
            "1\n",
            "2\n",
            "3\n",
            "4\n",
            "5\n",
            "6\n",
            "7\n",
            "8\n",
            "9\n"
          ]
        }
      ]
    },
    {
      "cell_type": "code",
      "source": [
        "x = 1\n",
        "while x <= 10:\n",
        "  x = x + 3\n",
        "  print(x)\n",
        "print(f'The first x greater than 10 is equal to {x}')"
      ],
      "metadata": {
        "id": "jofMFaOKNPzd",
        "colab": {
          "base_uri": "https://localhost:8080/"
        },
        "outputId": "74b2ea25-6c05-40a3-e063-44fcc41cf484"
      },
      "execution_count": null,
      "outputs": [
        {
          "output_type": "stream",
          "name": "stdout",
          "text": [
            "4\n",
            "7\n",
            "10\n",
            "13\n",
            "The first x greater than 10 is equal to 13\n"
          ]
        }
      ]
    },
    {
      "cell_type": "markdown",
      "source": [
        "## Short practices\n",
        "1. Calculate the sum from 1 to 100, using `while` or `for`.\n",
        "2. Given a list L, for each element in it, increase the value by 1 if it is larger than 10, otherwise decrease it by 2 (Hint: use `for` and `if`). \\\\\n",
        "Example: [10, 11, 9, 4] -> [8, 12, 7, 2]."
      ],
      "metadata": {
        "id": "9INrJqccbKRO"
      }
    },
    {
      "cell_type": "code",
      "source": [
        "# Use for loop\n",
        "\n",
        "total = 0\n",
        "\n",
        "for i in range(1,101):\n",
        "    total += i\n",
        "print(total)"
      ],
      "metadata": {
        "colab": {
          "base_uri": "https://localhost:8080/"
        },
        "id": "bEEjquphF412",
        "outputId": "2f894d73-6588-4bbd-b5fd-d34bd437cdc6"
      },
      "execution_count": 21,
      "outputs": [
        {
          "output_type": "stream",
          "name": "stdout",
          "text": [
            "5050\n"
          ]
        }
      ]
    },
    {
      "cell_type": "code",
      "source": [
        "# Use while loop\n",
        "\n",
        "total=0\n",
        "i=1\n",
        "while i <= 100:\n",
        "    total += i\n",
        "    i += 1\n",
        "print(total)"
      ],
      "metadata": {
        "id": "TmvdGSP2Dr2l",
        "colab": {
          "base_uri": "https://localhost:8080/"
        },
        "outputId": "4fbdb818-e5dc-4979-fdfe-48ef8dff5118"
      },
      "execution_count": 26,
      "outputs": [
        {
          "output_type": "stream",
          "name": "stdout",
          "text": [
            "5050\n"
          ]
        }
      ]
    },
    {
      "cell_type": "code",
      "source": [
        "# practice\n",
        "L = [3, 77, 7, 10,12, 11, 14]\n",
        "\n",
        "L_new = []\n",
        "\n",
        "for i in L :\n",
        "    if i > 10 :\n",
        "        i += 1\n",
        "        L_new.append(i)\n",
        "    else :\n",
        "        i -= 2\n",
        "        L_new.append(i)\n",
        "\n",
        "print(L_new)"
      ],
      "metadata": {
        "id": "XXRwcd6AckEw",
        "colab": {
          "base_uri": "https://localhost:8080/"
        },
        "outputId": "f6be0801-01e3-4457-a5fd-c198879b2183"
      },
      "execution_count": 29,
      "outputs": [
        {
          "output_type": "stream",
          "name": "stdout",
          "text": [
            "[1, 78, 5, 8, 13, 12, 15]\n"
          ]
        }
      ]
    },
    {
      "cell_type": "markdown",
      "source": [
        "# Functions\n",
        "format: 'def function():'"
      ],
      "metadata": {
        "id": "kV6Aa-wUaSWB"
      }
    },
    {
      "cell_type": "code",
      "source": [
        "def myprint(start_value, end_value): # print the value from start_value to end_value (exclusive)\n",
        "  for i in range(start_value, end_value):\n",
        "    print(i)"
      ],
      "metadata": {
        "id": "CekDnLlcabnT"
      },
      "execution_count": null,
      "outputs": []
    },
    {
      "cell_type": "code",
      "source": [
        "myprint(1, 5)"
      ],
      "metadata": {
        "colab": {
          "base_uri": "https://localhost:8080/"
        },
        "id": "8sHKyDZeaog3",
        "outputId": "34d8f30d-bd2e-475c-e745-1865b608531a"
      },
      "execution_count": null,
      "outputs": [
        {
          "output_type": "stream",
          "name": "stdout",
          "text": [
            "1\n",
            "2\n",
            "3\n",
            "4\n"
          ]
        }
      ]
    },
    {
      "cell_type": "code",
      "source": [
        "myprint(2, 4)"
      ],
      "metadata": {
        "colab": {
          "base_uri": "https://localhost:8080/"
        },
        "id": "GhAi7W3Hap72",
        "outputId": "5616e4f9-78f7-43d5-f01d-1cfefef9c1e1"
      },
      "execution_count": null,
      "outputs": [
        {
          "output_type": "stream",
          "name": "stdout",
          "text": [
            "2\n",
            "3\n"
          ]
        }
      ]
    },
    {
      "cell_type": "code",
      "source": [
        "def calculate(x, y):\n",
        "  z = x + y\n",
        "  return z"
      ],
      "metadata": {
        "id": "gCY-k30od7OX"
      },
      "execution_count": null,
      "outputs": []
    },
    {
      "cell_type": "code",
      "source": [
        "z = calculate(1,2)\n",
        "print(z)"
      ],
      "metadata": {
        "colab": {
          "base_uri": "https://localhost:8080/"
        },
        "id": "Gm9qW-GoeEZ0",
        "outputId": "55d4ef2a-1880-4938-f866-ffc52fd02324"
      },
      "execution_count": null,
      "outputs": [
        {
          "output_type": "stream",
          "name": "stdout",
          "text": [
            "3\n"
          ]
        }
      ]
    },
    {
      "cell_type": "markdown",
      "source": [
        "## Short practices\n",
        "1. Define a function with arguments of `start_value` and `end_value`, which calculates the sum from `start_value` to `end_value`(**inclusive**). Hint: use the `range` function.\n",
        "2. Use conditions to check whether `start_value` is larger than `end_value`. If yes, print out the message \"The start_value should be smaller than end_value, try other values\"."
      ],
      "metadata": {
        "id": "pDnsjdJla66M"
      }
    },
    {
      "cell_type": "code",
      "source": [
        "# practices\n",
        "\n",
        "def wholesum (start_value, end_value):\n",
        "\n",
        "    total = 0\n",
        "\n",
        "    if start_value > end_value :\n",
        "        print(\"The start_value should be smaller than or equal to end_value.\")\n",
        "\n",
        "    else :\n",
        "        for i in range(start_value, end_value+1) :\n",
        "            total += i\n",
        "\n",
        "    return total\n"
      ],
      "metadata": {
        "id": "OyMgxYLpbyp7"
      },
      "execution_count": 47,
      "outputs": []
    },
    {
      "cell_type": "code",
      "source": [
        "wholesum(1,5)"
      ],
      "metadata": {
        "colab": {
          "base_uri": "https://localhost:8080/"
        },
        "id": "qmVP0X2kIy6_",
        "outputId": "a2ae6dc9-18cd-47af-e911-49b2fa22f597"
      },
      "execution_count": 48,
      "outputs": [
        {
          "output_type": "execute_result",
          "data": {
            "text/plain": [
              "15"
            ]
          },
          "metadata": {},
          "execution_count": 48
        }
      ]
    },
    {
      "cell_type": "code",
      "source": [
        "wholesum(5,2)"
      ],
      "metadata": {
        "colab": {
          "base_uri": "https://localhost:8080/"
        },
        "id": "5w0rXWbXJBx_",
        "outputId": "003c4d32-e043-45dc-eba9-358731449489"
      },
      "execution_count": 49,
      "outputs": [
        {
          "output_type": "stream",
          "name": "stdout",
          "text": [
            "The start_value should be smaller than or equal to end_value.\n"
          ]
        },
        {
          "output_type": "execute_result",
          "data": {
            "text/plain": [
              "0"
            ]
          },
          "metadata": {},
          "execution_count": 49
        }
      ]
    },
    {
      "cell_type": "markdown",
      "source": [
        "# Classes\n",
        "`class` is the most important and fundamental concept in Python. Let us start by seeing what is `class` and what it can do."
      ],
      "metadata": {
        "id": "cPxhWcpCcvHi"
      }
    },
    {
      "cell_type": "code",
      "source": [
        "class mycalculator():\n",
        "  def __init__(self): # necessary for the construction of `class`\n",
        "    self.summand = 1\n",
        "\n",
        "  def add(self, x):\n",
        "    x = x + self.summand\n",
        "    return x"
      ],
      "metadata": {
        "id": "isRhdEBEeg5N"
      },
      "execution_count": null,
      "outputs": []
    },
    {
      "cell_type": "code",
      "source": [
        "calculator1 = mycalculator()\n",
        "calculator1.add(10)"
      ],
      "metadata": {
        "colab": {
          "base_uri": "https://localhost:8080/"
        },
        "id": "mASINeEsfkKc",
        "outputId": "a911decd-a86e-4201-ddd9-1abc690581f5"
      },
      "execution_count": null,
      "outputs": [
        {
          "output_type": "execute_result",
          "data": {
            "text/plain": [
              "11"
            ]
          },
          "metadata": {},
          "execution_count": 17
        }
      ]
    },
    {
      "cell_type": "markdown",
      "source": [
        "Notice in the above example, `mycalculator` is called `class`, `calculator1` is called `instance`. By using the `mycalculator`, you can create a lot of calculators. Let's see why we need `class`."
      ],
      "metadata": {
        "id": "F3LaxGhNfxj3"
      }
    },
    {
      "cell_type": "code",
      "source": [
        "class mycalculator():\n",
        "  def __init__(self, summand): # This function will only be used when create an instance, see the examples below.\n",
        "    self.summand = summand\n",
        "\n",
        "  def add(self, x):\n",
        "    x = x + self.summand\n",
        "    return x"
      ],
      "metadata": {
        "id": "7DzhKCIIfot2"
      },
      "execution_count": null,
      "outputs": []
    },
    {
      "cell_type": "code",
      "source": [
        "calculator1 = mycalculator(1) # calculator1.summand is equal to 1\n",
        "x = calculator1.add(10)\n",
        "print(f'x from the first calculator is equal to {x}')\n",
        "\n",
        "calculator2 = mycalculator(2) # calculator2.summand is equal to 2\n",
        "x = calculator2.add(10)\n",
        "print(f'x from the second calculator is equal to {x}')"
      ],
      "metadata": {
        "colab": {
          "base_uri": "https://localhost:8080/"
        },
        "id": "Kn85KFd5gZfd",
        "outputId": "ecfc6692-02c7-401b-eacf-9836bf7fff70"
      },
      "execution_count": null,
      "outputs": [
        {
          "output_type": "stream",
          "name": "stdout",
          "text": [
            "x from the first calculator is equal to 11\n",
            "x from the second calculator is equal to 12\n"
          ]
        }
      ]
    },
    {
      "cell_type": "markdown",
      "source": [
        "You see that, by using `class`, we can create a lot of calculators with different functions! It can greatly save your time if you need to repeat some tasks for many times, while all tasks are slighly different."
      ],
      "metadata": {
        "id": "aXmRxgoVgsw0"
      }
    },
    {
      "cell_type": "markdown",
      "source": [
        "## Short practices\n",
        "1. Complete the code for `class` employee.\n",
        "2. Define a class function to check whether the age is larger than 20 or not. If yes, print out \"The age is larger than 20\", otherwise print out \"The age is not larger than 20\".\n",
        "3. Create two instances `Tom` and `Jerry`, set their ages as 19 and 21, respectively.\n",
        "4. Use the class function `check` to check whether the age is larger than 20 or not."
      ],
      "metadata": {
        "id": "s4cjHa1O_N2_"
      }
    },
    {
      "cell_type": "code",
      "source": [
        "# practices\n",
        "class employee():\n",
        "  def __init__(self, age):\n",
        "    self.age = age\n",
        "\n",
        "  def check(self) :\n",
        "    if self.age > 20 :\n",
        "        print(\"The age is not larger than 20\")\n",
        "    else :\n",
        "        print(\"The age is not larger than 20\")"
      ],
      "metadata": {
        "id": "-8gruWe7_QfX"
      },
      "execution_count": 64,
      "outputs": []
    },
    {
      "cell_type": "code",
      "source": [
        "tom = employee(19)\n",
        "jerry = employee(21)"
      ],
      "metadata": {
        "id": "_PPj-B14K2d_"
      },
      "execution_count": 66,
      "outputs": []
    },
    {
      "cell_type": "code",
      "source": [
        "employee.check(tom)"
      ],
      "metadata": {
        "colab": {
          "base_uri": "https://localhost:8080/"
        },
        "id": "OZrMdIA4K5Qe",
        "outputId": "4cd60856-d545-4df9-8825-5d18bfdd02a9"
      },
      "execution_count": 67,
      "outputs": [
        {
          "output_type": "stream",
          "name": "stdout",
          "text": [
            "The age is not larger than 20\n"
          ]
        }
      ]
    },
    {
      "cell_type": "code",
      "source": [
        "employee.check(jerry)"
      ],
      "metadata": {
        "colab": {
          "base_uri": "https://localhost:8080/"
        },
        "id": "GR-EO_AIK7J-",
        "outputId": "0302fd95-c308-47e5-d1a4-d9030a510264"
      },
      "execution_count": 68,
      "outputs": [
        {
          "output_type": "stream",
          "name": "stdout",
          "text": [
            "The age is not larger than 20\n"
          ]
        }
      ]
    },
    {
      "cell_type": "code",
      "source": [],
      "metadata": {
        "id": "HnAceud-Lwjo"
      },
      "execution_count": null,
      "outputs": []
    }
  ]
}